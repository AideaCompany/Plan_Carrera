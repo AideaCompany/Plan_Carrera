{
 "cells": [
  {
   "cell_type": "code",
   "execution_count": 19,
   "metadata": {},
   "outputs": [
    {
     "name": "stdout",
     "output_type": "stream",
     "text": [
      "Requirement already satisfied: selenium in c:\\users\\57321\\appdata\\local\\programs\\python\\python311\\lib\\site-packages (4.7.2)\n",
      "Requirement already satisfied: urllib3[socks]~=1.26 in c:\\users\\57321\\appdata\\local\\programs\\python\\python311\\lib\\site-packages (from selenium) (1.26.14)\n",
      "Requirement already satisfied: trio~=0.17 in c:\\users\\57321\\appdata\\local\\programs\\python\\python311\\lib\\site-packages (from selenium) (0.22.0)\n",
      "Requirement already satisfied: trio-websocket~=0.9 in c:\\users\\57321\\appdata\\local\\programs\\python\\python311\\lib\\site-packages (from selenium) (0.9.2)\n",
      "Requirement already satisfied: certifi>=2021.10.8 in c:\\users\\57321\\appdata\\local\\programs\\python\\python311\\lib\\site-packages (from selenium) (2022.12.7)\n",
      "Requirement already satisfied: attrs>=19.2.0 in c:\\users\\57321\\appdata\\local\\programs\\python\\python311\\lib\\site-packages (from trio~=0.17->selenium) (22.2.0)\n",
      "Requirement already satisfied: sortedcontainers in c:\\users\\57321\\appdata\\local\\programs\\python\\python311\\lib\\site-packages (from trio~=0.17->selenium) (2.4.0)\n",
      "Requirement already satisfied: async-generator>=1.9 in c:\\users\\57321\\appdata\\local\\programs\\python\\python311\\lib\\site-packages (from trio~=0.17->selenium) (1.10)\n",
      "Requirement already satisfied: idna in c:\\users\\57321\\appdata\\local\\programs\\python\\python311\\lib\\site-packages (from trio~=0.17->selenium) (3.4)\n",
      "Requirement already satisfied: outcome in c:\\users\\57321\\appdata\\local\\programs\\python\\python311\\lib\\site-packages (from trio~=0.17->selenium) (1.2.0)\n",
      "Requirement already satisfied: sniffio in c:\\users\\57321\\appdata\\local\\programs\\python\\python311\\lib\\site-packages (from trio~=0.17->selenium) (1.3.0)\n",
      "Requirement already satisfied: cffi>=1.14 in c:\\users\\57321\\appdata\\local\\programs\\python\\python311\\lib\\site-packages (from trio~=0.17->selenium) (1.15.1)\n",
      "Requirement already satisfied: wsproto>=0.14 in c:\\users\\57321\\appdata\\local\\programs\\python\\python311\\lib\\site-packages (from trio-websocket~=0.9->selenium) (1.2.0)\n",
      "Requirement already satisfied: PySocks!=1.5.7,<2.0,>=1.5.6 in c:\\users\\57321\\appdata\\local\\programs\\python\\python311\\lib\\site-packages (from urllib3[socks]~=1.26->selenium) (1.7.1)\n",
      "Requirement already satisfied: pycparser in c:\\users\\57321\\appdata\\local\\programs\\python\\python311\\lib\\site-packages (from cffi>=1.14->trio~=0.17->selenium) (2.21)\n",
      "Requirement already satisfied: h11<1,>=0.9.0 in c:\\users\\57321\\appdata\\local\\programs\\python\\python311\\lib\\site-packages (from wsproto>=0.14->trio-websocket~=0.9->selenium) (0.14.0)\n",
      "Note: you may need to restart the kernel to use updated packages.\n"
     ]
    }
   ],
   "source": [
    "pip install -U selenium"
   ]
  },
  {
   "cell_type": "code",
   "execution_count": 6,
   "metadata": {},
   "outputs": [],
   "source": [
    "from selenium import webdriver\n",
    "\n",
    "browser = webdriver.Chrome()\n",
    "browser.get('https://www.google.com/webhp?hl=es-419&sa=X&ved=0ahUKEwj3mPDrm8z8AhWhRDABHbgXAlwQPAgI')"
   ]
  },
  {
   "cell_type": "code",
   "execution_count": 1,
   "metadata": {},
   "outputs": [],
   "source": [
    "from selenium import webdriver"
   ]
  },
  {
   "cell_type": "code",
   "execution_count": 2,
   "metadata": {},
   "outputs": [],
   "source": [
    "driver=webdriver.Chrome()"
   ]
  },
  {
   "cell_type": "code",
   "execution_count": 3,
   "metadata": {},
   "outputs": [],
   "source": [
    "driver.get(\"https://es.wikipedia.org\")"
   ]
  },
  {
   "cell_type": "code",
   "execution_count": 4,
   "metadata": {},
   "outputs": [],
   "source": [
    "from selenium.webdriver.common.by import By"
   ]
  },
  {
   "cell_type": "code",
   "execution_count": 5,
   "metadata": {},
   "outputs": [],
   "source": [
    "from selenium.webdriver.common.keys import Keys"
   ]
  },
  {
   "cell_type": "code",
   "execution_count": 6,
   "metadata": {},
   "outputs": [
    {
     "data": {
      "text/plain": [
       "[<selenium.webdriver.remote.webelement.WebElement (session=\"f1f2b33afbe2ffa00fb590a82988757a\", element=\"c8f8029c-7390-4b85-ab33-70ffb712a21a\")>,\n",
       " <selenium.webdriver.remote.webelement.WebElement (session=\"f1f2b33afbe2ffa00fb590a82988757a\", element=\"a6fc7d0b-0ed1-40c6-9e63-70916de1d09e\")>,\n",
       " <selenium.webdriver.remote.webelement.WebElement (session=\"f1f2b33afbe2ffa00fb590a82988757a\", element=\"18f9b9fb-d5a5-46fd-b1d2-f717b45797a7\")>,\n",
       " <selenium.webdriver.remote.webelement.WebElement (session=\"f1f2b33afbe2ffa00fb590a82988757a\", element=\"87f07f91-2b47-4d28-98df-5e5aaa3bc8df\")>,\n",
       " <selenium.webdriver.remote.webelement.WebElement (session=\"f1f2b33afbe2ffa00fb590a82988757a\", element=\"8be5fb5b-e2dd-4440-8623-38c935b911b8\")>,\n",
       " <selenium.webdriver.remote.webelement.WebElement (session=\"f1f2b33afbe2ffa00fb590a82988757a\", element=\"06254837-14a5-46dd-bc05-2b6660c2d03c\")>,\n",
       " <selenium.webdriver.remote.webelement.WebElement (session=\"f1f2b33afbe2ffa00fb590a82988757a\", element=\"e33ee034-3b88-4f0b-9887-3a8ec49189ef\")>,\n",
       " <selenium.webdriver.remote.webelement.WebElement (session=\"f1f2b33afbe2ffa00fb590a82988757a\", element=\"7bd89aa6-3d6b-4dfe-9c21-959e2b4a3ea8\")>,\n",
       " <selenium.webdriver.remote.webelement.WebElement (session=\"f1f2b33afbe2ffa00fb590a82988757a\", element=\"928cf298-f8cb-48db-9eb7-f4d5933ff818\")>,\n",
       " <selenium.webdriver.remote.webelement.WebElement (session=\"f1f2b33afbe2ffa00fb590a82988757a\", element=\"13d0b69c-3052-4a12-8f42-4256e828c31b\")>,\n",
       " <selenium.webdriver.remote.webelement.WebElement (session=\"f1f2b33afbe2ffa00fb590a82988757a\", element=\"e362b152-2c5c-4699-bbf8-2a4f7af3cae4\")>,\n",
       " <selenium.webdriver.remote.webelement.WebElement (session=\"f1f2b33afbe2ffa00fb590a82988757a\", element=\"c958ed62-b3d1-4ac0-9ffb-29cb3ae81b0e\")>,\n",
       " <selenium.webdriver.remote.webelement.WebElement (session=\"f1f2b33afbe2ffa00fb590a82988757a\", element=\"7423fbde-1320-4876-afb3-5b2161685032\")>,\n",
       " <selenium.webdriver.remote.webelement.WebElement (session=\"f1f2b33afbe2ffa00fb590a82988757a\", element=\"336be904-8506-4317-89dd-3f8d4606e488\")>,\n",
       " <selenium.webdriver.remote.webelement.WebElement (session=\"f1f2b33afbe2ffa00fb590a82988757a\", element=\"629de21f-fb1a-48b0-b601-c5563a766f1c\")>,\n",
       " <selenium.webdriver.remote.webelement.WebElement (session=\"f1f2b33afbe2ffa00fb590a82988757a\", element=\"7f84b6a5-aae2-42a3-a3ca-a927ac100a6c\")>]"
      ]
     },
     "execution_count": 6,
     "metadata": {},
     "output_type": "execute_result"
    }
   ],
   "source": [
    "driver.find_elements(By.TAG_NAME, \"p\")"
   ]
  },
  {
   "cell_type": "code",
   "execution_count": 7,
   "metadata": {},
   "outputs": [
    {
     "data": {
      "text/plain": [
       "<selenium.webdriver.remote.webelement.WebElement (session=\"f1f2b33afbe2ffa00fb590a82988757a\", element=\"58e3c48f-c77e-4d8a-b37b-fbfcd4b1c84c\")>"
      ]
     },
     "execution_count": 7,
     "metadata": {},
     "output_type": "execute_result"
    }
   ],
   "source": [
    "driver.find_element(By.TAG_NAME, \"title\")"
   ]
  },
  {
   "cell_type": "code",
   "execution_count": 9,
   "metadata": {},
   "outputs": [
    {
     "data": {
      "text/plain": [
       "'Wikipedia, la enciclopedia libre'"
      ]
     },
     "execution_count": 9,
     "metadata": {},
     "output_type": "execute_result"
    }
   ],
   "source": [
    "driver.find_element(By.TAG_NAME, \"title\").get_attribute(\"textContent\")"
   ]
  },
  {
   "cell_type": "code",
   "execution_count": null,
   "metadata": {},
   "outputs": [],
   "source": [
    "title=driver.title"
   ]
  },
  {
   "cell_type": "code",
   "execution_count": null,
   "metadata": {},
   "outputs": [
    {
     "data": {
      "text/plain": [
       "'Wikipedia'"
      ]
     },
     "execution_count": 18,
     "metadata": {},
     "output_type": "execute_result"
    }
   ],
   "source": [
    "title"
   ]
  },
  {
   "cell_type": "code",
   "execution_count": 19,
   "metadata": {},
   "outputs": [],
   "source": [
    "driver.quit()"
   ]
  },
  {
   "cell_type": "code",
   "execution_count": null,
   "metadata": {},
   "outputs": [],
   "source": [
    "driver"
   ]
  },
  {
   "cell_type": "code",
   "execution_count": 12,
   "metadata": {},
   "outputs": [],
   "source": [
    "from selenium import webdriver\n",
    "from selenium.webdriver.common.by import By\n",
    "import time\n"
   ]
  },
  {
   "cell_type": "code",
   "execution_count": 13,
   "metadata": {},
   "outputs": [
    {
     "ename": "WebDriverException",
     "evalue": "Message: unknown error: net::ERR_CONNECTION_REFUSED\n  (Session info: chrome=109.0.5414.75)\nStacktrace:\nBacktrace:\n\t(No symbol) [0x00546643]\n\t(No symbol) [0x004DBE21]\n\t(No symbol) [0x003DDA9D]\n\t(No symbol) [0x003D9E22]\n\t(No symbol) [0x003CFCFD]\n\t(No symbol) [0x003D1101]\n\t(No symbol) [0x003CFFDD]\n\t(No symbol) [0x003CF3BC]\n\t(No symbol) [0x003CF2D8]\n\t(No symbol) [0x003CDC68]\n\t(No symbol) [0x003CE512]\n\t(No symbol) [0x003DF75B]\n\t(No symbol) [0x00447727]\n\t(No symbol) [0x0042FD7C]\n\t(No symbol) [0x00446B09]\n\t(No symbol) [0x0042FB76]\n\t(No symbol) [0x004049C1]\n\t(No symbol) [0x00405E5D]\n\tGetHandleVerifier [0x007BA142+2497106]\n\tGetHandleVerifier [0x007E85D3+2686691]\n\tGetHandleVerifier [0x007EBB9C+2700460]\n\tGetHandleVerifier [0x005F3B10+635936]\n\t(No symbol) [0x004E4A1F]\n\t(No symbol) [0x004EA418]\n\t(No symbol) [0x004EA505]\n\t(No symbol) [0x004F508B]\n\tBaseThreadInitThunk [0x74D600F9+25]\n\tRtlGetAppContainerNamedObjectPath [0x76EE7BBE+286]\n\tRtlGetAppContainerNamedObjectPath [0x76EE7B8E+238]\n",
     "output_type": "error",
     "traceback": [
      "\u001b[1;31m---------------------------------------------------------------------------\u001b[0m",
      "\u001b[1;31mWebDriverException\u001b[0m                        Traceback (most recent call last)",
      "Cell \u001b[1;32mIn[13], line 3\u001b[0m\n\u001b[0;32m      1\u001b[0m driver\u001b[39m=\u001b[39mwebdriver\u001b[39m.\u001b[39mChrome()\n\u001b[0;32m      2\u001b[0m driver\u001b[39m.\u001b[39mimplicitly_wait(\u001b[39m5\u001b[39m)\n\u001b[1;32m----> 3\u001b[0m driver\u001b[39m.\u001b[39;49mget(\u001b[39m\"\u001b[39;49m\u001b[39mhttp://localhost:3000\u001b[39;49m\u001b[39m\"\u001b[39;49m)\n\u001b[0;32m      4\u001b[0m driver\u001b[39m.\u001b[39mfind_element(By\u001b[39m.\u001b[39mLINK_TEXT, \u001b[39m\"\u001b[39m\u001b[39mwaits\u001b[39m\u001b[39m\"\u001b[39m)\u001b[39m.\u001b[39mclick()\n\u001b[0;32m      5\u001b[0m driver\u001b[39m.\u001b[39mfind_element(By\u001b[39m.\u001b[39mID, \u001b[39m\"\u001b[39m\u001b[39mimplicitWaitButton\u001b[39m\u001b[39m\"\u001b[39m)\u001b[39m.\u001b[39mclick()\n",
      "File \u001b[1;32mc:\\Users\\57321\\AppData\\Local\\Programs\\Python\\Python311\\Lib\\site-packages\\selenium\\webdriver\\remote\\webdriver.py:455\u001b[0m, in \u001b[0;36mWebDriver.get\u001b[1;34m(self, url)\u001b[0m\n\u001b[0;32m    451\u001b[0m \u001b[39mdef\u001b[39;00m \u001b[39mget\u001b[39m(\u001b[39mself\u001b[39m, url: \u001b[39mstr\u001b[39m) \u001b[39m-\u001b[39m\u001b[39m>\u001b[39m \u001b[39mNone\u001b[39;00m:\n\u001b[0;32m    452\u001b[0m \u001b[39m    \u001b[39m\u001b[39m\"\"\"\u001b[39;00m\n\u001b[0;32m    453\u001b[0m \u001b[39m    Loads a web page in the current browser session.\u001b[39;00m\n\u001b[0;32m    454\u001b[0m \u001b[39m    \"\"\"\u001b[39;00m\n\u001b[1;32m--> 455\u001b[0m     \u001b[39mself\u001b[39;49m\u001b[39m.\u001b[39;49mexecute(Command\u001b[39m.\u001b[39;49mGET, {\u001b[39m\"\u001b[39;49m\u001b[39murl\u001b[39;49m\u001b[39m\"\u001b[39;49m: url})\n",
      "File \u001b[1;32mc:\\Users\\57321\\AppData\\Local\\Programs\\Python\\Python311\\Lib\\site-packages\\selenium\\webdriver\\remote\\webdriver.py:444\u001b[0m, in \u001b[0;36mWebDriver.execute\u001b[1;34m(self, driver_command, params)\u001b[0m\n\u001b[0;32m    442\u001b[0m response \u001b[39m=\u001b[39m \u001b[39mself\u001b[39m\u001b[39m.\u001b[39mcommand_executor\u001b[39m.\u001b[39mexecute(driver_command, params)\n\u001b[0;32m    443\u001b[0m \u001b[39mif\u001b[39;00m response:\n\u001b[1;32m--> 444\u001b[0m     \u001b[39mself\u001b[39;49m\u001b[39m.\u001b[39;49merror_handler\u001b[39m.\u001b[39;49mcheck_response(response)\n\u001b[0;32m    445\u001b[0m     response[\u001b[39m\"\u001b[39m\u001b[39mvalue\u001b[39m\u001b[39m\"\u001b[39m] \u001b[39m=\u001b[39m \u001b[39mself\u001b[39m\u001b[39m.\u001b[39m_unwrap_value(response\u001b[39m.\u001b[39mget(\u001b[39m\"\u001b[39m\u001b[39mvalue\u001b[39m\u001b[39m\"\u001b[39m, \u001b[39mNone\u001b[39;00m))\n\u001b[0;32m    446\u001b[0m     \u001b[39mreturn\u001b[39;00m response\n",
      "File \u001b[1;32mc:\\Users\\57321\\AppData\\Local\\Programs\\Python\\Python311\\Lib\\site-packages\\selenium\\webdriver\\remote\\errorhandler.py:249\u001b[0m, in \u001b[0;36mErrorHandler.check_response\u001b[1;34m(self, response)\u001b[0m\n\u001b[0;32m    247\u001b[0m         alert_text \u001b[39m=\u001b[39m value[\u001b[39m\"\u001b[39m\u001b[39malert\u001b[39m\u001b[39m\"\u001b[39m]\u001b[39m.\u001b[39mget(\u001b[39m\"\u001b[39m\u001b[39mtext\u001b[39m\u001b[39m\"\u001b[39m)\n\u001b[0;32m    248\u001b[0m     \u001b[39mraise\u001b[39;00m exception_class(message, screen, stacktrace, alert_text)  \u001b[39m# type: ignore[call-arg]  # mypy is not smart enough here\u001b[39;00m\n\u001b[1;32m--> 249\u001b[0m \u001b[39mraise\u001b[39;00m exception_class(message, screen, stacktrace)\n",
      "\u001b[1;31mWebDriverException\u001b[0m: Message: unknown error: net::ERR_CONNECTION_REFUSED\n  (Session info: chrome=109.0.5414.75)\nStacktrace:\nBacktrace:\n\t(No symbol) [0x00546643]\n\t(No symbol) [0x004DBE21]\n\t(No symbol) [0x003DDA9D]\n\t(No symbol) [0x003D9E22]\n\t(No symbol) [0x003CFCFD]\n\t(No symbol) [0x003D1101]\n\t(No symbol) [0x003CFFDD]\n\t(No symbol) [0x003CF3BC]\n\t(No symbol) [0x003CF2D8]\n\t(No symbol) [0x003CDC68]\n\t(No symbol) [0x003CE512]\n\t(No symbol) [0x003DF75B]\n\t(No symbol) [0x00447727]\n\t(No symbol) [0x0042FD7C]\n\t(No symbol) [0x00446B09]\n\t(No symbol) [0x0042FB76]\n\t(No symbol) [0x004049C1]\n\t(No symbol) [0x00405E5D]\n\tGetHandleVerifier [0x007BA142+2497106]\n\tGetHandleVerifier [0x007E85D3+2686691]\n\tGetHandleVerifier [0x007EBB9C+2700460]\n\tGetHandleVerifier [0x005F3B10+635936]\n\t(No symbol) [0x004E4A1F]\n\t(No symbol) [0x004EA418]\n\t(No symbol) [0x004EA505]\n\t(No symbol) [0x004F508B]\n\tBaseThreadInitThunk [0x74D600F9+25]\n\tRtlGetAppContainerNamedObjectPath [0x76EE7BBE+286]\n\tRtlGetAppContainerNamedObjectPath [0x76EE7B8E+238]\n"
     ]
    }
   ],
   "source": [
    "driver=webdriver.Chrome()\n",
    "driver.implicitly_wait(5)\n",
    "driver.get(\"http://localhost:3000\")\n",
    "driver.find_element(By.LINK_TEXT, \"waits\").click()\n",
    "driver.find_element(By.ID, \"implicitWaitButton\").click()"
   ]
  },
  {
   "cell_type": "code",
   "execution_count": 11,
   "metadata": {},
   "outputs": [],
   "source": []
  },
  {
   "cell_type": "code",
   "execution_count": null,
   "metadata": {},
   "outputs": [],
   "source": []
  }
 ],
 "metadata": {
  "kernelspec": {
   "display_name": "Python 3",
   "language": "python",
   "name": "python3"
  },
  "language_info": {
   "codemirror_mode": {
    "name": "ipython",
    "version": 3
   },
   "file_extension": ".py",
   "mimetype": "text/x-python",
   "name": "python",
   "nbconvert_exporter": "python",
   "pygments_lexer": "ipython3",
   "version": "3.11.1"
  },
  "orig_nbformat": 4,
  "vscode": {
   "interpreter": {
    "hash": "e8af4c0f4c01f3138aed5bde84670bc96ab7295799da7974d8878271b45d1106"
   }
  }
 },
 "nbformat": 4,
 "nbformat_minor": 2
}
